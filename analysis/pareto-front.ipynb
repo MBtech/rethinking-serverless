{
 "cells": [
  {
   "cell_type": "code",
   "execution_count": 1,
   "metadata": {},
   "outputs": [],
   "source": [
    "from paretoset import paretoset\n",
    "import pandas as pd \n",
    "import numpy as np\n",
    "import os \n",
    "import seaborn as sns \n",
    "import matplotlib.pyplot as plt \n",
    "import matplotlib\n",
    "from scipy.spatial import distance\n",
    "from utils import *\n",
    "import copy \n",
    "import warnings\n",
    "warnings.simplefilter(action='ignore', category=FutureWarning)\n",
    "warnings.simplefilter(action='ignore', category=UserWarning)"
   ]
  },
  {
   "cell_type": "markdown",
   "metadata": {},
   "source": [
    "## Configurations and Settings"
   ]
  },
  {
   "cell_type": "code",
   "execution_count": 2,
   "metadata": {},
   "outputs": [],
   "source": [
    "calculate_cpu_mem_costs()\n",
    "\n",
    "benchmarks = {\n",
    "            \"transcode\": [\"cats-1\"], \n",
    "            \"pigo-faceblur\": [\"faces2\"], \n",
    "            \"pigo-face-detector\": [\"faces2\"], \n",
    "            \"openfaas-ocr\": [\"doc\"], \n",
    "            \"linpack\": [\"2500\"],\n",
    "            \"s3\": [\"cats-1\"]\n",
    "            }\n",
    "\n",
    "benchmark_naming = {\"transcode\": \"transcode\", \"pigo-faceblur\": \"faceblur\", \"pigo-face-detector\": \"facedetect\", \"classifier\": \"classifier\", \"linpack\": \"linpack\", \"s3\": \"s3\", \"openfaas-ocr\": \"ocr\"}\n",
    "\n",
    "# benchmarks ={\"classifier\": [\"bridge-8k-1920x1200\"]}\n",
    "\n",
    "base_estimator = 'GP'\n",
    "CPU_LIMITS= [ '250m', '500m', '750m', '1000m', '1250m', '1500m', '1750m', '2000m' ]\n",
    "MEMORY_LIMITS=[ '128Mi', '256Mi', '512Mi', '768Mi', '1024Mi', '2048Mi' ]\n",
    "instance_types = ['m5', 'm5a', 'c5', 'c5a', 'c6g', 'm6g']\n",
    "\n",
    "N_TRIALS = 20\n",
    "N_INIT_SAMPLES = 3\n",
    "N_OPT_TRAILS = 10\n",
    "\n",
    "data_dir = 'analysis_data/'"
   ]
  },
  {
   "cell_type": "markdown",
   "metadata": {},
   "source": [
    "## Helper functions"
   ]
  },
  {
   "cell_type": "code",
   "execution_count": 3,
   "metadata": {},
   "outputs": [],
   "source": [
    "def train_model(x, CPU_LIMITS, MEMORY_LIMITS, instance_types, N_INIT_SAMPLES, function_name, data_name, metric='runtime'):\n",
    "    if base_estimator != \"poly\":\n",
    "        from optimizer.boskopt import Models\n",
    "        model = Models()\n",
    "        model.create_model(function=function_name, base_estimator=base_estimator)\n",
    "    else:\n",
    "        from optimizer.polyreg import Models\n",
    "        model = Models()\n",
    "        model.create_model(function=function_name)\n",
    "\n",
    "    runtimes = []\n",
    "    costs = []\n",
    "\n",
    "    minimum = 600.0\n",
    "    best_config = {}\n",
    "\n",
    "    init_samples = get_random_samples(CPU_LIMITS, MEMORY_LIMITS, instance_types, seed=x, n_samples=N_INIT_SAMPLES)\n",
    "    # init_samples = get_init_samples(CPU_LIMITS, MEMORY_LIMITS, instance_types, seed=x, n_samples=N_INIT_SAMPLES, var=True)\n",
    "\n",
    "    default_config = init_samples[0]\n",
    "    config = default_config\n",
    "    # print(config)\n",
    "\n",
    "    if base_estimator != \"poly\":\n",
    "        from optimizer.boskopt import Models\n",
    "        model = Models()\n",
    "        model.create_model(function=function_name, base_estimator=base_estimator, seed=x)\n",
    "    else:\n",
    "        from optimizer.polyreg import Models\n",
    "        model = Models()\n",
    "        model.create_model(function=function_name)\n",
    "\n",
    "    for i in range(0, N_TRIALS):\n",
    "        success = True\n",
    "\n",
    "        result = get_result_from_data(function_name, data_name, config, MEMORY_LIMITS, metric=metric)\n",
    "        # runtimes.append(result)\n",
    "\n",
    "        if result < minimum:\n",
    "            minimum = result\n",
    "            best_config = config \n",
    "        # print(result, config)\n",
    "\n",
    "        model.update(config, result, function_name, success=True)\n",
    "        \n",
    "        if i < N_INIT_SAMPLES-1:\n",
    "            config = init_samples[i+1]\n",
    "        else:\n",
    "            config = model.get_next_config(function_name)\n",
    "        \n",
    "    return model, best_config "
   ]
  },
  {
   "cell_type": "code",
   "execution_count": 4,
   "metadata": {},
   "outputs": [],
   "source": [
    "def train_model_weighted(x, CPU_LIMITS, MEMORY_LIMITS, instance_types, N_INIT_SAMPLES, function_name, data_name, min_value):\n",
    "    if base_estimator != \"poly\":\n",
    "        from optimizer.boskopt import Models\n",
    "        model = Models()\n",
    "        model.create_model(function=function_name, base_estimator=base_estimator)\n",
    "    else:\n",
    "        from optimizer.polyreg import Models\n",
    "        model = Models()\n",
    "        model.create_model(function=function_name)\n",
    "\n",
    "\n",
    "    minimum = 10000.0\n",
    "    best_config = {}\n",
    "\n",
    "    init_samples = get_random_samples(CPU_LIMITS, MEMORY_LIMITS, instance_types, seed=x, n_samples=N_INIT_SAMPLES)\n",
    "    # init_samples = get_init_samples(CPU_LIMITS, MEMORY_LIMITS, instance_types, seed=x, n_samples=N_INIT_SAMPLES, var=True)\n",
    "\n",
    "    default_config = init_samples[0]\n",
    "    config = default_config\n",
    "    # print(config)\n",
    "\n",
    "    if base_estimator != \"poly\":\n",
    "        from optimizer.boskopt import Models\n",
    "        model = Models()\n",
    "        model.create_model(function=function_name, base_estimator=base_estimator, seed=x)\n",
    "    else:\n",
    "        from optimizer.polyreg import Models\n",
    "        model = Models()\n",
    "        model.create_model(function=function_name)\n",
    "\n",
    "    runtime_weight = 0.5\n",
    "    cost_weight = 0.5\n",
    "\n",
    "    for i in range(0, N_TRAILS):\n",
    "        success = True\n",
    "        runtime = get_result_from_data(function_name, data_name, config, MEMORY_LIMITS, metric='runtime')\n",
    "        norm_runtime = runtime/float(min_value['runtime'])\n",
    "        cost = get_result_from_data(function_name, data_name, config, MEMORY_LIMITS, metric='cost')\n",
    "        norm_cost = cost/float(min_value['cost'])\n",
    "        result = norm_runtime * runtime_weight + norm_cost * cost_weight\n",
    "        # print(result) \n",
    "\n",
    "        if result < minimum:\n",
    "            minimum = result\n",
    "            # minimum_runtime = runtime \n",
    "            # minimum_cost = cost \n",
    "            best_config = copy.deepcopy(config)\n",
    "\n",
    "\n",
    "        model.update(config, result, function_name, success=True)\n",
    "        \n",
    "        if i < N_INIT_SAMPLES-1:\n",
    "            config = init_samples[i+1]\n",
    "        else:\n",
    "            config = model.get_next_config(function_name)\n",
    "        \n",
    "    return model, best_config "
   ]
  },
  {
   "cell_type": "markdown",
   "metadata": {},
   "source": [
    "## Creating a combined pareto band"
   ]
  },
  {
   "cell_type": "code",
   "execution_count": 5,
   "metadata": {},
   "outputs": [],
   "source": [
    "def similar_to_pareto_front(paretoset, model, function_name, data_name, min_cost, min_runtime, threshold=0.1):\n",
    "    paretoset_performance =  pd.DataFrame(columns=[\"Function Runtime (s)\", \"Function Exec. Cost ($)\", \"Configs\", \"Data\"])\n",
    "    predictions = model.get_all_config_predictions(function_name)\n",
    "    # print(predictions[0])\n",
    "    for index, row in paretoset.iterrows():\n",
    "        row_runtime = row[\"Function Runtime (s)\"]\n",
    "        row_cost = row[\"Function Exec. Cost ($)\"]\n",
    "        for prediction in predictions:\n",
    "            runtime = prediction[0]/min_runtime \n",
    "            instance_type, cpu, memory = prediction[1]\n",
    "            cost = calculate_cost(cpu, memory, prediction[0], instance_type)/min_cost\n",
    "            if ((1-threshold)* row_runtime <= runtime) and (runtime <= (1+ threshold) * row_runtime) and \\\n",
    "                ((1-threshold)* row_cost <= cost) and (cost <= (1+ threshold) * row_cost):\n",
    "                # print(prediction[1])\n",
    "                # print(cost, runtime)\n",
    "                config = {'instance_type': instance_type, 'cpu': cpu, 'memory': memory}\n",
    "                runtime = get_result_from_data(function_name, data_name, config, MEMORY_LIMITS)\n",
    "                cost = calculate_cost(cpu, memory, runtime, instance_type)\n",
    "                # print(cost, runtime)\n",
    "                cost = cost/min_cost\n",
    "                runtime = runtime/min_runtime\n",
    "\n",
    "                # print(cost, runtime)\n",
    "                paretoset_performance = paretoset_performance.append({\"Function Runtime (s)\": runtime,\n",
    "                                                                      \"Function Exec. Cost ($)\": cost, \n",
    "                                                                      \"Configs\": instance_type + '_' + cpu + '_' + memory,\n",
    "                                                                      \"Data\": data_name}, ignore_index=True)\n",
    "    \n",
    "    paretoset_performance.drop_duplicates(inplace=True)\n",
    "    return paretoset_performance\n",
    "\n"
   ]
  },
  {
   "cell_type": "markdown",
   "metadata": {},
   "source": [
    "## Calculate the distance between the points in the pareto front"
   ]
  },
  {
   "cell_type": "code",
   "execution_count": 6,
   "metadata": {},
   "outputs": [],
   "source": [
    "def distance_from_ideal_paretoset(paretoband, performance):\n",
    "    distances = []\n",
    "    distances_runtime = []\n",
    "    distances_cost = []\n",
    "    # Measure distance of each point in the band to actual pareto front\n",
    "    # the use the distance to the closest \n",
    "    for index, entry in paretoband.iterrows():\n",
    "        distance_array = []\n",
    "        for index, pareto_config in performance.iterrows():\n",
    "            distance_array.append(distance.cityblock(\n",
    "                [pareto_config[\"Function Runtime (s)\"], pareto_config[\"Function Exec. Cost ($)\"]],\n",
    "                [entry[\"Function Runtime (s)\"], entry[\"Function Exec. Cost ($)\"]]\n",
    "            ))\n",
    "        minimum = min(distance_array)\n",
    "        min_index = distance_array.index(minimum)\n",
    "        distances.append(minimum)\n",
    "        # print(entry[\"Function Runtime (s)\"], performance[\"Function Runtime (s)\"].iloc[min_index])\n",
    "        distances_runtime.append(abs(entry[\"Function Runtime (s)\"] - performance[\"Function Runtime (s)\"].iloc[min_index])/performance[\"Function Runtime (s)\"].iloc[min_index])\n",
    "        distances_cost.append(abs(entry[\"Function Exec. Cost ($)\"] - performance[\"Function Exec. Cost ($)\"].iloc[min_index])/performance[\"Function Exec. Cost ($)\"].iloc[min_index])\n",
    "    \n",
    "    return distances, distances_runtime, distances_cost"
   ]
  },
  {
   "cell_type": "code",
   "execution_count": 7,
   "metadata": {},
   "outputs": [
    {
     "name": "stdout",
     "output_type": "stream",
     "text": [
      "transcode\n",
      "cats-1\n"
     ]
    },
    {
     "ename": "NameError",
     "evalue": "name 'paretoband' is not defined",
     "output_type": "error",
     "traceback": [
      "\u001b[0;31m---------------------------------------------------------------------------\u001b[0m",
      "\u001b[0;31mNameError\u001b[0m                                 Traceback (most recent call last)",
      "\u001b[1;32m/Users/bilal/workspace/other-repos/rethinking-serverless/analysis/pareto-front.ipynb Cell 11\u001b[0m in \u001b[0;36m<cell line: 3>\u001b[0;34m()\u001b[0m\n\u001b[1;32m     <a href='vscode-notebook-cell:/Users/bilal/workspace/other-repos/rethinking-serverless/analysis/pareto-front.ipynb#X14sZmlsZQ%3D%3D?line=52'>53</a>\u001b[0m performance[\u001b[39m\"\u001b[39m\u001b[39mConfigs\u001b[39m\u001b[39m\"\u001b[39m] \u001b[39m=\u001b[39m \u001b[39mlist\u001b[39m(configs)\n\u001b[1;32m     <a href='vscode-notebook-cell:/Users/bilal/workspace/other-repos/rethinking-serverless/analysis/pareto-front.ipynb#X14sZmlsZQ%3D%3D?line=53'>54</a>\u001b[0m performance[\u001b[39m\"\u001b[39m\u001b[39mData\u001b[39m\u001b[39m\"\u001b[39m] \u001b[39m=\u001b[39m [data_name] \u001b[39m*\u001b[39m \u001b[39mlen\u001b[39m(configs)\n\u001b[0;32m---> <a href='vscode-notebook-cell:/Users/bilal/workspace/other-repos/rethinking-serverless/analysis/pareto-front.ipynb#X14sZmlsZQ%3D%3D?line=55'>56</a>\u001b[0m function_pareto \u001b[39m=\u001b[39m paretoband[function_name]\n\u001b[1;32m     <a href='vscode-notebook-cell:/Users/bilal/workspace/other-repos/rethinking-serverless/analysis/pareto-front.ipynb#X14sZmlsZQ%3D%3D?line=56'>57</a>\u001b[0m function_pareto_trial \u001b[39m=\u001b[39m function_pareto[function_pareto[\u001b[39m\"\u001b[39m\u001b[39mOpt Trial\u001b[39m\u001b[39m\"\u001b[39m]\u001b[39m==\u001b[39mx]\n\u001b[1;32m     <a href='vscode-notebook-cell:/Users/bilal/workspace/other-repos/rethinking-serverless/analysis/pareto-front.ipynb#X14sZmlsZQ%3D%3D?line=58'>59</a>\u001b[0m distances, distances_runtime, distances_cost \u001b[39m=\u001b[39m distance_from_ideal_paretoset(function_pareto_trial, performance)\n",
      "\u001b[0;31mNameError\u001b[0m: name 'paretoband' is not defined"
     ]
    }
   ],
   "source": [
    "# benchmarks ={\"pigo-face-detector\": [\"faces2\", \"image-1\", \"image-2\", \"image-3\", \"image-4\", \"image-5\", \"image-6\", \"image-7\", \"image-8\", \"image-9\", \"image-10\"]}\n",
    "\n",
    "for function_name in benchmarks.keys():\n",
    "    print(function_name)\n",
    "    # runtimes = pd.DataFrame(columns=['trials', 'runtime', 'cost', 'estimator'])\n",
    "    paretoset_performance =  pd.DataFrame(columns=[\"Function Runtime (s)\", \"Function Exec. Cost ($)\", \"Configs\", \"Data\"])\n",
    "\n",
    "    distance_to_pareto = pd.DataFrame(columns=[\"Dataname\", \"Performance Metric\", \"Normalized Metric Value\", \"Trial\"])\n",
    "\n",
    "    for data_name in benchmarks[function_name]:\n",
    "\n",
    "        print(data_name)\n",
    "        for x in range(0, N_OPT_TRAILS):\n",
    "            # model, best_config = train_model(x, CPU_LIMITS, MEMORY_LIMITS, instance_types, N_INIT_SAMPLES, function_name, data_name, metric='runtime')\n",
    "            # minimum_runtime = get_result_from_data(function_name, data_name, best_config, MEMORY_LIMITS)\n",
    "\n",
    "            # model, best_config = train_model(x, CPU_LIMITS, MEMORY_LIMITS, instance_types, N_INIT_SAMPLES, function_name, data_name, metric='cost')\n",
    "            # minimum_cost = get_result_from_data(function_name, data_name, best_config, MEMORY_LIMITS, metric='cost')\n",
    "            runtimes = []\n",
    "            costs = []\n",
    "            configs = []\n",
    "            \n",
    "            minimum_cost, _, _ = get_best_configuration(instance_types, CPU_LIMITS, MEMORY_LIMITS, function_name, data_name, metric='cost')\n",
    "            minimum_runtime, _, _ = get_best_configuration(instance_types, CPU_LIMITS, MEMORY_LIMITS, function_name, data_name)\n",
    "                \n",
    "            # results = model.get_all_config_predictions(function_name)\n",
    "            # for result in results:\n",
    "            #     runtimes.append(result[0])\n",
    "            #     instance_type = result[1][0]\n",
    "            #     cpu = result[1][1]\n",
    "            #     memory = result[1][2]\n",
    "            #     costs.append(calculate_cost(cpu, memory, result[0], instance_type))\n",
    "            #     configs.append(instance_type+'_'+cpu+'_'+memory)\n",
    "\n",
    "            for instance_type in instance_types:\n",
    "                for cpu in CPU_LIMITS:\n",
    "                    for mem in MEMORY_LIMITS:\n",
    "                        # directory = \"../data/\" + benchmark + \"/\"\n",
    "                        config = {'instance_type': instance_type, 'memory': mem.strip('Mi'), 'cpu': cpu.strip('m')}\n",
    "                        median = get_result_from_data(function_name, data_name, config, MEMORY_LIMITS)\n",
    "                        \n",
    "                        cost = calculate_cost(cpu, mem, median, instance_type)\n",
    "                        runtimes.append(median/minimum_runtime)\n",
    "                        costs.append(cost/minimum_cost)\n",
    "                        configs.append(instance_type+'_'+cpu.strip('m')+'_'+mem.strip('Mi'))\n",
    "\n",
    "            performance = pd.DataFrame({\"Function Runtime (s)\": runtimes, \n",
    "                    \"Function Exec. Cost ($)\": costs})\n",
    "            mask = paretoset(performance, sense=[\"min\", \"min\"])\n",
    "            performance = performance[mask]\n",
    "            configs = np.array(configs)\n",
    "            configs = configs[mask]\n",
    "            performance[\"Configs\"] = list(configs)\n",
    "            performance[\"Data\"] = [data_name] * len(configs)\n",
    "\n",
    "            function_pareto = paretoband[function_name]\n",
    "            function_pareto_trial = function_pareto[function_pareto[\"Opt Trial\"]==x]\n",
    "\n",
    "            distances, distances_runtime, distances_cost = distance_from_ideal_paretoset(function_pareto_trial, performance)\n",
    "            # print(distances)\n",
    "            # print(distances_runtime)\n",
    "            # print(distances_cost)\n",
    "\n",
    "            df = pd.DataFrame(columns=[\"Dataname\", \"Performance Metric\", \"Normalized Metric Value\", \"Trial\"])\n",
    "            df[\"Dataname\"] = [data_name] * len(distances)\n",
    "            df[\"Performance Metric\"] =  [\"Runtime\"] * len(distances)\n",
    "            df[\"Normalized Metric Value\"] = distances_runtime\n",
    "            df[\"Trial\"] = x\n",
    "            distance_to_pareto = distance_to_pareto.append(df, ignore_index=False)\n",
    "\n",
    "            df = pd.DataFrame(columns=[\"Dataname\", \"Performance Metric\", \"Normalized Metric Value\", \"Trial\"])\n",
    "            df[\"Dataname\"] = [data_name] * len(distances)\n",
    "            df[\"Performance Metric\"] =  [\"Execution Cost\"] * len(distances)\n",
    "            df[\"Normalized Metric Value\"] = distances_cost\n",
    "            df[\"Trial\"] = x\n",
    "            distance_to_pareto = distance_to_pareto.append(df, ignore_index=False)\n",
    "        \n",
    "    distance_to_pareto.to_csv(data_dir + function_name +'-distance-to-pareto-20-trials.csv', index=False)\n",
    "    # -distance-to-pareto-0.0.csv is the one we used in the paper\n",
    "    # -distance-to-pareto-40-trials.csv is with 40 optimization trials to see how much reduction in distance we can get\n"
   ]
  },
  {
   "cell_type": "markdown",
   "metadata": {},
   "source": [
    "## Normalized average distance between the points of predicted and actual pareto front"
   ]
  },
  {
   "cell_type": "code",
   "execution_count": null,
   "metadata": {},
   "outputs": [
    {
     "name": "stdout",
     "output_type": "stream",
     "text": [
      "cats-1\n",
      "7.1\n",
      "faces2\n",
      "9.2\n",
      "faces2\n",
      "9.8\n",
      "doc\n",
      "3.6\n",
      "2500\n",
      "7.4\n",
      "cats-1\n",
      "12.6\n"
     ]
    },
    {
     "data": {
      "text/plain": [
       "<matplotlib.legend.Legend at 0x15420c340>"
      ]
     },
     "execution_count": 9,
     "metadata": {},
     "output_type": "execute_result"
    },
    {
     "data": {
      "image/png": "[encoded data removed]",
      "text/plain": [
       "<Figure size 400x200 with 1 Axes>"
      ]
     },
     "metadata": {},
     "output_type": "display_data"
    }
   ],
   "source": [
    "# fig, axs = plt.subplots(figsize=(24, 3.5), ncols=6, constrained_layout=True, sharey=True)\n",
    "plt.figure(figsize=(4,2))\n",
    "distance = pd.DataFrame()\n",
    "\n",
    "j = 0\n",
    "matplotlib.rcParams.update({'font.size': 11})\n",
    "for function_name in benchmarks.keys():\n",
    "    print(benchmarks[function_name][0])\n",
    "    distance_to_pareto = pd.read_csv(data_dir + function_name +'-distance-to-pareto-20-trials.csv')\n",
    "    if function_name == \"linpack\":\n",
    "        distance_to_pareto = distance_to_pareto[distance_to_pareto['Dataname']==int(benchmarks[function_name][0])]\n",
    "    else:\n",
    "        distance_to_pareto = distance_to_pareto[distance_to_pareto['Dataname']==benchmarks[function_name][0]]\n",
    "    \n",
    "    print(len(distance_to_pareto.index)/20.0)\n",
    "    distance_to_pareto.replace({'bridge-8k-1920x1200': 'default', 'faces2': 'default', 'cats-1': 'default', 2500: 'default', 'doc': 'default'}, inplace=True)\n",
    "    distance_to_pareto.replace({'Runtime': '$d_{t}$', 'Execution Cost': '$d_{c}$'}, inplace=True)\n",
    "\n",
    "    distance_to_pareto[\"Benchmark\"] = [benchmark_naming[function_name]] * len(distance_to_pareto.index)\n",
    "    distance = distance.append(distance_to_pareto)\n",
    "\n",
    "ax = sns.barplot(data=distance, x=\"Benchmark\", y=\"Normalized Metric Value\", hue=\"Performance Metric\")\n",
    "# ax.set_title(benchmark_naming[function_name])\n",
    "ax.set_xlabel(\"\")\n",
    "ax.set_ylabel('Norm. Average Distance')\n",
    "\n",
    "ax.legend().set_visible(False)\n",
    "    # ax.set_ylabel\n",
    "ax.tick_params(axis='x', rotation=45)\n",
    "matplotlib.rcParams.update({'font.size': 11})\n",
    "plt.legend()\n",
    "plt.savefig('plots/pareto_distance_20_trials.pdf', bbox_inches = \"tight\")"
   ]
  }
 ],
 "metadata": {
  "kernelspec": {
   "display_name": "Python 3.8.12 ('.venv': venv)",
   "language": "python",
   "name": "python3"
  },
  "language_info": {
   "codemirror_mode": {
    "name": "ipython",
    "version": 3
   },
   "file_extension": ".py",
   "mimetype": "text/x-python",
   "name": "python",
   "nbconvert_exporter": "python",
   "pygments_lexer": "ipython3",
   "version": "3.8.12"
  },
  "metadata": {
   "interpreter": {
    "hash": "4cd7ab41f5fca4b9b44701077e38c5ffd31fe66a6cab21e0214b68d958d0e462"
   }
  },
  "orig_nbformat": 2,
  "vscode": {
   "interpreter": {
    "hash": "6352ae42883ea4d7fa05b6b6c3ba0e2ca1b42b14183220cb868edfc4ab34af64"
   }
  }
 },
 "nbformat": 4,
 "nbformat_minor": 2
}
