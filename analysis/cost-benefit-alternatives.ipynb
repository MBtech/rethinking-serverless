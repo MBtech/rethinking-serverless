{
 "cells": [
  {
   "cell_type": "code",
   "execution_count": 1,
   "metadata": {},
   "outputs": [],
   "source": [
    "from paretoset import paretoset\n",
    "import pandas as pd \n",
    "import numpy as np\n",
    "import os \n",
    "import seaborn as sns \n",
    "import matplotlib.pyplot as plt \n",
    "import matplotlib\n",
    "from scipy.spatial import distance\n",
    "from utils import *"
   ]
  },
  {
   "cell_type": "markdown",
   "metadata": {},
   "source": [
    "## Configurations and settings"
   ]
  },
  {
   "cell_type": "code",
   "execution_count": 2,
   "metadata": {},
   "outputs": [],
   "source": [
    "# benchmarks = {\"transcode\": \"cats-1\", \"pigo-faceblur\": \"faces2\", \"pigo-face-detector\": \"faces2\", \"openfaas-ocr\": \"doc\", \"linpack\": \"2500\", \"s3\": \"cats-1\"}\n",
    "calculate_cpu_mem_costs()\n",
    "\n",
    "benchmark_naming = {\"transcode\": \"transcode\", \"pigo-faceblur\": \"faceblur\", \"pigo-face-detector\": \"facedetect\", \"classifier\": \"classifier\", \"linpack\": \"linpack\", \"s3\": \"s3\", \"openfaas-ocr\": \"ocr\"}\n",
    "\n",
    "benchmarks ={\"transcode\": \"cats-1\"}\n",
    "\n",
    "base_estimator = 'GP'\n",
    "CPU_LIMITS= [ '250m', '500m', '750m', '1000m', '1250m', '1500m', '1750m', '2000m' ]\n",
    "MEMORY_LIMITS=[ '128Mi', '256Mi', '512Mi', '768Mi', '1024Mi', '2048Mi' ]\n",
    "instance_types = ['m5', 'm5a', 'c5', 'c5a', 'c6g', 'm6g']\n",
    "\n",
    "N_TRIALS = 20\n",
    "N_INIT_SAMPLES = 3\n",
    "N_OPT_TRAILS = 10\n",
    "\n",
    "data_dir = 'analysis_data/'"
   ]
  },
  {
   "cell_type": "markdown",
   "metadata": {},
   "source": [
    "## Helper functions"
   ]
  },
  {
   "cell_type": "code",
   "execution_count": 6,
   "metadata": {},
   "outputs": [],
   "source": [
    "def train_model(x, CPU_LIMITS, MEMORY_LIMITS, instance_types, N_INIT_SAMPLES, function_name, data_name, metric='runtime'):\n",
    "    if base_estimator != \"poly\":\n",
    "        from optimizer.boskopt import Models\n",
    "        model = Models()\n",
    "        model.create_model(function=function_name, base_estimator=base_estimator)\n",
    "    else:\n",
    "        from optimizer.polyreg import Models\n",
    "        model = Models()\n",
    "        model.create_model(function=function_name)\n",
    "\n",
    "    runtimes = []\n",
    "    costs = []\n",
    "\n",
    "    minimum = 600.0\n",
    "    best_config = {}\n",
    "\n",
    "    init_samples = get_random_samples(CPU_LIMITS, MEMORY_LIMITS, instance_types, seed=x, n_samples=N_INIT_SAMPLES)\n",
    "    # init_samples = get_init_samples(CPU_LIMITS, MEMORY_LIMITS, instance_types, seed=x, n_samples=N_INIT_SAMPLES, var=True)\n",
    "\n",
    "    default_config = init_samples[0]\n",
    "    config = default_config\n",
    "    # print(config)\n",
    "\n",
    "    if base_estimator != \"poly\":\n",
    "        from optimizer.boskopt import Models\n",
    "        model = Models()\n",
    "        model.create_model(function=function_name, base_estimator=base_estimator, seed=x)\n",
    "    else:\n",
    "        from optimizer.polyreg import Models\n",
    "        model = Models()\n",
    "        model.create_model(function=function_name)\n",
    "\n",
    "    for i in range(0, N_TRIALS):\n",
    "        success = True\n",
    "\n",
    "        result = get_result_from_data(function_name, data_name, config, MEMORY_LIMITS, metric=metric)\n",
    "        # runtimes.append(result)\n",
    "\n",
    "        if result < minimum:\n",
    "            minimum = result\n",
    "            best_config = config \n",
    "        # print(result, config)\n",
    "\n",
    "        model.update(config, result, function_name, success=True)\n",
    "        \n",
    "        if i < N_INIT_SAMPLES-1:\n",
    "            config = init_samples[i+1]\n",
    "        else:\n",
    "            config = model.get_next_config(function_name)\n",
    "        \n",
    "    return model, best_config "
   ]
  },
  {
   "cell_type": "markdown",
   "metadata": {},
   "source": []
  },
  {
   "cell_type": "code",
   "execution_count": null,
   "metadata": {},
   "outputs": [],
   "source": [
    "model_perf = pd.DataFrame(columns=[\"benchmark\", \"trials\", \"instance type\", \"Norm. Value\", \"type\"])\n",
    "ideal_perf = pd.DataFrame(columns=[\"benchmark\", \"trials\", \"instance type\", \"Norm. Value\", \"type\"])\n",
    "for function_name in benchmarks.keys():\n",
    "    print(function_name)\n",
    "\n",
    "    data_name = benchmarks[function_name]\n",
    "    # minimum_cost, _, _ = get_best_configuration(instance_types, CPU_LIMITS, MEMORY_LIMITS, function_name, data_name, metric='cost')\n",
    "    minimum_runtime, actual_best_config_cost,_ ,_ = get_best_configuration(instance_types, CPU_LIMITS, MEMORY_LIMITS, function_name, data_name, metric='1.0/0.0')\n",
    "    \n",
    "    for x in range(0, N_OPT_TRAILS):\n",
    "        runtimes = []\n",
    "        costs = []\n",
    "        configs = []\n",
    "\n",
    "        model, best_config = train_model(x, CPU_LIMITS, MEMORY_LIMITS, instance_types, N_INIT_SAMPLES, function_name, data_name, metric='runtime')\n",
    "        best_found_config_runtime = get_result_from_data(function_name, data_name, best_config, MEMORY_LIMITS)\n",
    "        best_found_config_cost = get_result_from_data(function_name, data_name, best_config, MEMORY_LIMITS, metric='cost')\n",
    "\n",
    "        predictions = model.get_top_across_types(function_name)\n",
    "\n",
    "        # Retraining...\n",
    "        for prediction in predictions:\n",
    "            conf = prediction[1]\n",
    "            config = {'instance_type': conf[0], 'cpu': conf[1], 'memory': conf[2]}\n",
    "            runtime = get_result_from_data(function_name, data_name, config, MEMORY_LIMITS)\n",
    "\n",
    "            model.update(config, runtime, function_name, success=True)\n",
    "        predictions = model.get_top_across_types(function_name)\n",
    "\n",
    "        # print(predictions)\n",
    "\n",
    "        data_top_per_type = get_top_per_type_configs_from_data(instance_types, CPU_LIMITS, MEMORY_LIMITS, function_name, data_name, metric='runtime')\n",
    "\n",
    "        data_top_per_type = sorted(data_top_per_type, key=lambda x: x[0])\n",
    "        # print(data_top_per_type)\n",
    "\n",
    "        best_inst = data_top_per_type[0][1][0]\n",
    "\n",
    "        # For the optimization model \n",
    "        for prediction in predictions:\n",
    "            if prediction[1][0] == best_inst:\n",
    "                print(prediction)\n",
    "                continue\n",
    "\n",
    "            conf = prediction[1]\n",
    "            config = {'instance_type': conf[0], 'cpu': conf[1], 'memory': conf[2]}\n",
    "            cost = get_result_from_data(function_name, data_name, config, MEMORY_LIMITS, metric='cost') * 0.2\n",
    "\n",
    "            if prediction[0] <= best_found_config_runtime * 1.1:\n",
    "                print(config)\n",
    "                model_perf = model_perf.append({'benchmark': function_name, 'trials': x, 'instance type': conf[0], 'Norm. Value': cost/best_found_config_cost, 'type': \"xt-EC\"}, ignore_index=True)\n",
    "\n",
    "                runtime = get_result_from_data(function_name, data_name, config, MEMORY_LIMITS) \n",
    "                print(best_found_config_runtime, prediction[0], runtime)\n",
    "                model_perf = model_perf.append({'benchmark': function_name, 'trials': x, 'instance type': conf[0], 'Norm. Value': runtime/best_found_config_runtime, 'type': \"xt-ET\"}, ignore_index=True)\n",
    "            else:\n",
    "                model_perf = model_perf.append({'benchmark': function_name, 'trials': x, 'instance type': conf[0], 'Norm. Value': 1, 'type': \"xt-EC\"}, ignore_index=True)\n",
    "                model_perf = model_perf.append({'benchmark': function_name, 'trials': x, 'instance type': conf[0], 'Norm. Value': 1, 'type': \"xt-ET\"}, ignore_index=True)\n",
    "\n",
    "        # For the ideal case\n",
    "        # for c in data_top_per_type:\n",
    "        #     if c[1][0] == best_inst:\n",
    "        #         continue \n",
    "        #     conf = c[1]\n",
    "        #     config = {'instance_type': conf[0], 'cpu': conf[1], 'memory': conf[2]}\n",
    "        #     cost = get_result_from_data(function_name, data_name, config, MEMORY_LIMITS, metric='cost') * 0.2\n",
    "\n",
    "        #     if c[0] <=  minimum_runtime * 1.1:\n",
    "        #         ideal_perf = ideal_perf.append({'benchmark': function_name, 'trials': x, 'instance type': conf[0], 'Norm. Value': cost/actual_best_config_cost, 'type': \"EC\"}, ignore_index=True)\n",
    "\n",
    "        #         ideal_perf = ideal_perf.append({'benchmark': function_name, 'trials': x, 'instance type': conf[0], 'Norm. Value': c[0]/minimum_runtime, 'type': \"ET\"}, ignore_index=True)\n",
    "                \n",
    "        #     else:\n",
    "        #         ideal_perf = ideal_perf.append({'benchmark': function_name, 'trials': x, 'instance type': conf[0], 'Norm. Value': 1, 'type': \"EC\"}, ignore_index=True)\n",
    "        #         ideal_perf = ideal_perf.append({'benchmark': function_name, 'trials': x, 'instance type': conf[0], 'Norm. Value': 1, 'type': \"ET\"}, ignore_index=True)\n",
    "\n",
    "\n",
    "        # print(gains)\n",
    "\n",
    "# model_perf.to_csv(data_dir + 'alternatives-model.csv', index=False, mode='a', header=False)\n",
    "# ideal_perf.to_csv(data_dir + 'alternatives-ideal.csv', index=False)\n",
    "\n",
    "        # calculate_cpu_mem_costs(pricing_model='spot', instance_types=[types[i]])"
   ]
  },
  {
   "cell_type": "code",
   "execution_count": 3,
   "metadata": {},
   "outputs": [
    {
     "data": {
      "image/png": "[encoded data removed]",
      "text/plain": [
       "<Figure size 360x216 with 1 Axes>"
      ]
     },
     "metadata": {
      "needs_background": "light"
     },
     "output_type": "display_data"
    }
   ],
   "source": [
    "matplotlib.rcParams.update({'font.size': 11})\n",
    "\n",
    "model_perf = pd.read_csv(data_dir + 'alternatives-model.csv')\n",
    "ideal_perf = pd.read_csv(data_dir + 'alternatives-ideal.csv')\n",
    "\n",
    "model_perf.replace(benchmark_naming, inplace=True)\n",
    "ideal_perf.replace(benchmark_naming, inplace=True)\n",
    "\n",
    "fig = plt.figure(figsize=(5, 3), constrained_layout=True)\n",
    "# fig, axs = plt.subplots(figsize=(10, 4), ncols=2, constrained_layout=True)\n",
    "model_perf = model_perf[model_perf['type']!=\"xt-EC\"]\n",
    "model_perf = model_perf[model_perf['type']!=\"xt-ET\"]\n",
    "\n",
    "hue_order = ['ET', 'EC']\n",
    "ax = sns.boxplot(data=model_perf, x='benchmark', y='Norm. Value', hue='type', hue_order=hue_order)#, ax=axs[0])#, estimator=np.median)\n",
    "ax.legend(ncol=1)\n",
    "ax.set_ylim(0, 1.5)\n",
    "# ax.set_title('(a)')\n",
    "ax.tick_params(axis='x', labelrotation=45)\n",
    "ax.xaxis.label.set_visible(False)\n",
    "ax.axhline(1.1, ls='--')\n",
    "\n",
    "# ax = sns.boxplot(data=ideal_perf, x='benchmark', y='Norm. Value', hue='type', ax=axs[1])#, estimator=np.median)\n",
    "# ax.set_ylim(0, 1.5)\n",
    "# ax.legend().set_visible(False)\n",
    "# ax.tick_params(axis='x', labelrotation=45)\n",
    "# ax.set_title('(b)')\n",
    "# ax.set_xlabel('Benchmark')\n",
    "# plt.show()\n",
    "\n",
    "# handles, labels = ax.get_legend_handles_labels()\n",
    "# fig.legend(handles, labels, loc='upper center', ncol=2, bbox_to_anchor=(0.5, 0))\n",
    "# plt.legend(ncol=1, loc='upper left')\n",
    "plt.savefig('plots/cost-benefit.pdf', bbox_inches = \"tight\")"
   ]
  },
  {
   "cell_type": "code",
   "execution_count": null,
   "metadata": {},
   "outputs": [],
   "source": []
  }
 ],
 "metadata": {
  "interpreter": {
   "hash": "949777d72b0d2535278d3dc13498b2535136f6dfe0678499012e853ee9abcab1"
  },
  "kernelspec": {
   "display_name": "Python 3.7.9 64-bit ('3.7')",
   "language": "python",
   "name": "python3"
  },
  "language_info": {
   "codemirror_mode": {
    "name": "ipython",
    "version": 3
   },
   "file_extension": ".py",
   "mimetype": "text/x-python",
   "name": "python",
   "nbconvert_exporter": "python",
   "pygments_lexer": "ipython3",
   "version": "3.7.9"
  },
  "metadata": {
   "interpreter": {
    "hash": "e534e48711db4d1e1c48977d0d14ff85b1f16d41bcc4fdfd88268a329b3c9d66"
   }
  },
  "orig_nbformat": 2
 },
 "nbformat": 4,
 "nbformat_minor": 2
}
